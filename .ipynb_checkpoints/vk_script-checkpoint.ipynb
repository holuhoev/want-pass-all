{
 "cells": [
  {
   "cell_type": "code",
   "execution_count": 3,
   "metadata": {},
   "outputs": [],
   "source": [
    "import requests\n",
    "from datetime import datetime"
   ]
  },
  {
   "cell_type": "code",
   "execution_count": 28,
   "metadata": {},
   "outputs": [],
   "source": [
    "def filterByFields(users):\n",
    "    filtered_users = list()\n",
    "    for user in users:\n",
    "        if ('bdate' in user and 'can_write_private_message' in user):\n",
    "            number_of_dots = user['bdate'].count('.')\n",
    "            not_has_univer = (('universities' not in user or user['universities'] == [] ) and 'university' not in user and 'university_name' not in user)\n",
    "            if (('city' not in user or user['city'] != 1) and number_of_dots == 2 and not_has_univer  and user['can_write_private_message']==1):\n",
    "                    date = datetime.strptime(user['bdate'], \"%d.%m.%Y\")\n",
    "                    if(date.year >= 2000 and date.year <=2003):\n",
    "                            filtered_users.append(user)                  \n",
    "    return filtered_users\n",
    "\n",
    "def filterByOccupation(users):\n",
    "    filtered_users = list()\n",
    "    for user in users:\n",
    "        if('occupation' not in user or user['occupation']['type'] != 'university'):\n",
    "                filtered_users.append(user)\n",
    "    return filtered_users\n",
    "\n",
    "def intersection(lst1, lst2): \n",
    "    lst3 = [value for value in lst1 if value in lst2] \n",
    "    return lst3 "
   ]
  },
  {
   "cell_type": "code",
   "execution_count": 98,
   "metadata": {},
   "outputs": [
    {
     "data": {
      "text/plain": [
       "10794"
      ]
     },
     "execution_count": 98,
     "metadata": {},
     "output_type": "execute_result"
    }
   ],
   "source": [
    "count_mfti = 11;\n",
    "mfti_ids = list()\n",
    "\n",
    "for i in range(count_mfti):\n",
    "     mfti_members = requests.get(\"https://api.vk.com/method/groups.getMembers?group_id=abitunet&offset=\"+str(i*1000)+\"&fields=city&version=5.27&access_token=bcabe0c4bcabe0c4bcabe0c4f5bcc38eefbbcabbcabe0c4e0fe7790b7e3f8cf5cefa92b\")\n",
    "     mfti_ids.extend(list(map(lambda x: x['uid'], mfti_members.json()['response']['users'])))\n",
    "\n",
    "len(mfti_ids)"
   ]
  },
  {
   "cell_type": "code",
   "execution_count": 29,
   "metadata": {},
   "outputs": [
    {
     "name": "stdout",
     "output_type": "stream",
     "text": [
      "0\n",
      "1\n",
      "2\n",
      "3\n",
      "4\n",
      "5\n",
      "6\n",
      "7\n",
      "8\n",
      "9\n",
      "10\n",
      "11\n",
      "12\n",
      "13\n",
      "14\n",
      "15\n",
      "16\n",
      "17\n",
      "18\n",
      "19\n",
      "20\n",
      "21\n",
      "22\n",
      "23\n",
      "24\n",
      "25\n",
      "26\n",
      "27\n",
      "28\n",
      "29\n",
      "30\n",
      "31\n",
      "32\n",
      "33\n",
      "34\n",
      "35\n",
      "36\n",
      "37\n",
      "38\n",
      "39\n",
      "40\n",
      "41\n",
      "42\n",
      "43\n",
      "44\n",
      "45\n",
      "46\n",
      "47\n",
      "48\n",
      "49\n",
      "50\n",
      "51\n",
      "52\n",
      "53\n",
      "54\n",
      "55\n",
      "56\n",
      "57\n"
     ]
    },
    {
     "data": {
      "text/plain": [
       "3610"
      ]
     },
     "execution_count": 29,
     "metadata": {},
     "output_type": "execute_result"
    }
   ],
   "source": [
    "count = 58;\n",
    "users = list()\n",
    "\n",
    "for i in range(count):\n",
    "    postupashki_members = requests.get(\"https://api.vk.com/method/groups.getMembers?group_id=postypashki&offset=\"+str(i*1000)+\"&fields=city,bdate,universities,schools,can_write_private_message,education&version=5.27&access_token=bcabe0c4bcabe0c4bcabe0c4f5bcc38eefbbcabbcabe0c4e0fe7790b7e3f8cf5cefa92b\")\n",
    "    filtered = filterByFields(postupashki_members.json()['response']['users'])\n",
    "    user_ids = list(map(lambda x: x['uid'], filtered))\n",
    "    users.extend(user_ids)\n",
    "\n",
    "len(users)"
   ]
  },
  {
   "cell_type": "code",
   "execution_count": 47,
   "metadata": {},
   "outputs": [
    {
     "data": {
      "text/plain": [
       "2540"
      ]
     },
     "execution_count": 47,
     "metadata": {},
     "output_type": "execute_result"
    }
   ],
   "source": [
    "users_ids_final = list()\n",
    "batch_size = 200\n",
    "\n",
    "for i in range(len(users)//batch_size):\n",
    "    user_profile_response=requests.get(\"https://api.vk.com/method/users.get?user_ids=\"+str(users[i*batch_size:((i+1)*batch_size)])+\"&fields=occupation&version=5.27&access_token=bcabe0c4bcabe0c4bcabe0c4f5bcc38eefbbcabbcabe0c4e0fe7790b7e3f8cf5cefa92b\")\n",
    "    users_ids_final.extend(list(map(lambda x: x['uid'], filterByOccupation(user_profile_response.json()['response']))))\n",
    "\n",
    "len(users_ids_final)"
   ]
  },
  {
   "cell_type": "code",
   "execution_count": 48,
   "metadata": {},
   "outputs": [],
   "source": [
    "users_link = list(map(lambda x: \"https://vk.com/id\" + str(x), users_ids_final))"
   ]
  },
  {
   "cell_type": "code",
   "execution_count": 49,
   "metadata": {},
   "outputs": [],
   "source": [
    "with open('users_only_postupashki_no_in_moscow.txt', 'w') as f:\n",
    "    for item in users_link:\n",
    "        f.write(\"%s\\n\" % item)"
   ]
  },
  {
   "cell_type": "code",
   "execution_count": null,
   "metadata": {},
   "outputs": [],
   "source": []
  },
  {
   "cell_type": "code",
   "execution_count": 100,
   "metadata": {},
   "outputs": [],
   "source": [
    "mipt_board = requests.get(\"https://api.vk.com/method/board.getComments?group_id=76552532&topic_id=39053436&count=100&extended=1&version=5.27&access_token=bcabe0c4bcabe0c4bcabe0c4f5bcc38eefbbcabbcabe0c4e0fe7790b7e3f8cf5cefa92b\")"
   ]
  },
  {
   "cell_type": "code",
   "execution_count": 104,
   "metadata": {},
   "outputs": [
    {
     "data": {
      "text/plain": [
       "0"
      ]
     },
     "execution_count": 104,
     "metadata": {},
     "output_type": "execute_result"
    }
   ],
   "source": [
    "intersection(users, list(map(lambda x: x['uid'], mipt_board.json()['response']['profiles'])))"
   ]
  }
 ],
 "metadata": {
  "kernelspec": {
   "display_name": "Python 3",
   "language": "python",
   "name": "python3"
  },
  "language_info": {
   "codemirror_mode": {
    "name": "ipython",
    "version": 3
   },
   "file_extension": ".py",
   "mimetype": "text/x-python",
   "name": "python",
   "nbconvert_exporter": "python",
   "pygments_lexer": "ipython3",
   "version": "3.7.1"
  }
 },
 "nbformat": 4,
 "nbformat_minor": 2
}
