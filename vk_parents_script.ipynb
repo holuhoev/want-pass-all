{
 "cells": [
  {
   "cell_type": "code",
   "execution_count": 163,
   "metadata": {},
   "outputs": [],
   "source": [
    "import requests\n",
    "from datetime import datetime\n",
    "\n",
    "REQUEST_BATCH_SIZE=1000"
   ]
  },
  {
   "cell_type": "code",
   "execution_count": 164,
   "metadata": {},
   "outputs": [],
   "source": [
    "def getGroupMembersFiltered(group_id,fields, *filter_functions):\n",
    "    count=requests.get('https://api.vk.com/method/groups.getMembers?group_id='+group_id+'&fields='+str(fields)+'&version=5.27&access_token=bcabe0c4bcabe0c4bcabe0c4f5bcc38eefbbcabbcabe0c4e0fe7790b7e3f8cf5cefa92b').json()['response']['count']\n",
    "    \n",
    "    log( 'Members in group '+group_id+' : '+ str(count))\n",
    "    \n",
    "    requests_count=count//REQUEST_BATCH_SIZE + 1;\n",
    "\n",
    "    all_filtered_members=list()    \n",
    "    for i in range(requests_count):\n",
    "        members_batch=requests.get('https://api.vk.com/method/groups.getMembers?group_id='+group_id+'&fields='+str(fields)+'&offset='+str(i*REQUEST_BATCH_SIZE)+'&version=5.27&access_token=bcabe0c4bcabe0c4bcabe0c4f5bcc38eefbbcabbcabe0c4e0fe7790b7e3f8cf5cefa92b').json()['response']['users']\n",
    "        all_filtered_members.extend(fitlerListBy(members_batch,filter_functions))\n",
    "        \n",
    "    return all_filtered_members;\n",
    "\n",
    "def fitlerListBy(list, filter_functions):\n",
    "    return [x for x in list if (combineBoolFunctions(filter_functions,x))]\n",
    "\n",
    "def combineBoolFunctions(functions,x):\n",
    "    result=True\n",
    "    for func in functions:\n",
    "        result=result and func(x)\n",
    "    return result\n",
    "\n",
    "def writeToFile(file_name,items):\n",
    "    with open(file_name, 'w') as f:\n",
    "        for item in items:\n",
    "            f.write(\"%s\\n\" % item)"
   ]
  },
  {
   "cell_type": "code",
   "execution_count": 165,
   "metadata": {},
   "outputs": [],
   "source": [
    "\n",
    "def memberHasOpenMessage(member):\n",
    "    return ('can_write_private_message' in member and member['can_write_private_message'] ==1)\n",
    "    \n",
    "def memberHasAppropriateChild(member):\n",
    "    if('relatives' in member):\n",
    "        for relative in member['relatives']:\n",
    "            if('type' in relative and 'uid' in relative and relative['type']=='child' and relative['uid'] > 0):\n",
    "                return isChildAppropriate(relative['uid'])\n",
    "    return False\n",
    "\n",
    "def isChildAppropriate(child_id):\n",
    "    child_profile=requests.get(\"https://api.vk.com/method/users.get?user_id=\"+str(child_id)+\"&fields=bdate,universities,education,occupation&version=5.27&access_token=bcabe0c4bcabe0c4bcabe0c4f5bcc38eefbbcabbcabe0c4e0fe7790b7e3f8cf5cefa92b\").json()['response'][0]\n",
    "    return childHasAppropriateAge(child_profile) and childIsSchoolar(child_profile)\n",
    "    \n",
    "def childHasAppropriateAge(child):\n",
    "    if ('bdate' in child and child['bdate'].count('.') == 2):\n",
    "        date = datetime.strptime(child['bdate'], \"%d.%m.%Y\")\n",
    "        return (date.year >= 2000 and date.year <=2003)\n",
    "            \n",
    "    return False\n",
    "    \n",
    "def childIsSchoolar(child):\n",
    "    has_not_univer = (('universities' not in child or child['universities'] == [] ) and 'university' not in child and 'university_name' not in child)\n",
    "    by_occupation =  ('occupation' not in child or child['occupation']['type'] != 'university')\n",
    "    return not has_not_univer and by_occupation;\n",
    "    \n",
    "def log(text):\n",
    "    print(datetime.now().strftime(\"%Y-%m-%d %H:%M : \") + text)"
   ]
  },
  {
   "cell_type": "code",
   "execution_count": null,
   "metadata": {},
   "outputs": [
    {
     "name": "stdout",
     "output_type": "stream",
     "text": [
      "2019-02-06 13:31 : Start process group: 52388302\n",
      "2019-02-06 13:31 : Members in group 52388302 : 1294105\n"
     ]
    }
   ],
   "source": [
    "group_ids=['52388302',\n",
    "'m_roditeli',\n",
    "'roditeli_i',\n",
    "'parents.club',\n",
    "'roditeli20',\n",
    "'glad_parents',\n",
    "'modernparent',\n",
    "'mother4you',\n",
    "'club_razvivajka' ,\n",
    "'vk.children',\n",
    "'strana_detey',\n",
    "'29746763',\n",
    "'public.nash',\n",
    "'mamas_and_papas',\n",
    "'kidsandwe']\n",
    "    \n",
    "parents=list()\n",
    "\n",
    "for group_id in group_ids:\n",
    "    log('Start process group: '+group_id)\n",
    "    parents.extend(getGroupMembersFiltered(group_id,'relatives,can_write_private_message', memberHasOpenMessage, memberHasAppropriateChild))\n",
    "    log('Add group: '+group_id)\n",
    "\n",
    "parents_links = list(map(lambda x: \"https://vk.com/id\" + str(x['uid']), parents))\n",
    "writeToFile('parents.txt',parents_links)\n"
   ]
  },
  {
   "cell_type": "code",
   "execution_count": null,
   "metadata": {},
   "outputs": [],
   "source": []
  }
 ],
 "metadata": {
  "kernelspec": {
   "display_name": "Python 3",
   "language": "python",
   "name": "python3"
  },
  "language_info": {
   "codemirror_mode": {
    "name": "ipython",
    "version": 3
   },
   "file_extension": ".py",
   "mimetype": "text/x-python",
   "name": "python",
   "nbconvert_exporter": "python",
   "pygments_lexer": "ipython3",
   "version": "3.7.1"
  }
 },
 "nbformat": 4,
 "nbformat_minor": 2
}
