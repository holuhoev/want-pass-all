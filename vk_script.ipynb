{
 "cells": [
  {
   "cell_type": "code",
   "execution_count": 96,
   "metadata": {},
   "outputs": [],
   "source": [
    "import requests\n",
    "from datetime import datetime"
   ]
  },
  {
   "cell_type": "code",
   "execution_count": 136,
   "metadata": {},
   "outputs": [],
   "source": [
    "def filterByFields(users):\n",
    "    filtered_users = list()\n",
    "    for user in users:\n",
    "        if ('city' in user and 'bdate' in user and 'can_write_private_message' in user):\n",
    "            number_of_dots = user['bdate'].count('.')\n",
    "#             not_has_education_status = 'education_status' not in user\n",
    "            not_has_univer = (('universities' not in user or user['universities'] == [] ) and 'university' not in user and 'university_name' not in user)\n",
    "            if (user['city'] == 1 and number_of_dots == 2 and not_has_univer  and user['can_write_private_message']==1):\n",
    "                    date = datetime.strptime(user['bdate'], \"%d.%m.%Y\")\n",
    "                    if(date.year >= 2000 and date.year <=2003):\n",
    "                            filtered_users.append(user)                  \n",
    "    return filtered_users\n",
    "\n",
    "def filterByOccupation(users):\n",
    "    filtered_users = list()\n",
    "    for user in users:\n",
    "        if('occupation' not in user or user['occupation']['type'] != 'university'):\n",
    "                filtered_users.append(user)\n",
    "    return filtered_users\n",
    "# 1. universities = [] || universities not in user\n",
<<<<<<< HEAD
    "# 2. can_write_private_message in user and can_private_message == 1\n",
    "# 3. education_status = PhD, Alumna (Specialist), Postgraduate Student, Alumnus (Specialist), Student (Specialist), Candidate of Sciences\n",
=======
    "# 2. can_write_private_message in user and can_write_private_message == 1\n",
>>>>>>> 4c4df7604417c2c1ac8a445961cf94a2dd26775d
    "\n",
    "def intersection(lst1, lst2): \n",
    "    lst3 = [value for value in lst1 if value in lst2] \n",
    "    return lst3 "
   ]
  },
  {
   "cell_type": "code",
   "execution_count": 98,
   "metadata": {},
   "outputs": [
    {
     "data": {
      "text/plain": [
       "10794"
      ]
     },
     "execution_count": 98,
     "metadata": {},
     "output_type": "execute_result"
    }
   ],
   "source": [
    "count_mfti = 11;\n",
    "mfti_ids = list()\n",
    "\n",
    "for i in range(count_mfti):\n",
    "     mfti_members = requests.get(\"https://api.vk.com/method/groups.getMembers?group_id=abitunet&offset=\"+str(i*1000)+\"&fields=city&version=5.27&access_token=bcabe0c4bcabe0c4bcabe0c4f5bcc38eefbbcabbcabe0c4e0fe7790b7e3f8cf5cefa92b\")\n",
    "     mfti_ids.extend(list(map(lambda x: x['uid'], mfti_members.json()['response']['users'])))\n",
    "\n",
    "len(mfti_ids)"
   ]
  },
  {
   "cell_type": "code",
   "execution_count": 146,
   "metadata": {},
   "outputs": [
    {
     "data": {
      "text/plain": [
       "34"
      ]
     },
     "execution_count": 146,
     "metadata": {},
     "output_type": "execute_result"
    }
   ],
   "source": [
    "count = 58;\n",
    "users = list()\n",
    "\n",
    "for i in range(count):\n",
    "    postupashki_members = requests.get(\"https://api.vk.com/method/groups.getMembers?group_id=postypashki&offset=\"+str(i*1000)+\"&fields=city,bdate,universities,schools,can_write_private_message,education&version=5.27&access_token=bcabe0c4bcabe0c4bcabe0c4f5bcc38eefbbcabbcabe0c4e0fe7790b7e3f8cf5cefa92b\")\n",
    "    filtered = filterByFields(postupashki_members.json()['response']['users'])\n",
    "    user_ids = list(map(lambda x: x['uid'], filtered))\n",
    "    users.extend(intersection(user_ids,mfti_ids))\n",
    "\n",
    "len(users)"
   ]
  },
  {
   "cell_type": "code",
   "execution_count": 157,
   "metadata": {},
   "outputs": [
    {
     "data": {
      "text/plain": [
       "15"
      ]
     },
     "execution_count": 157,
     "metadata": {},
     "output_type": "execute_result"
    }
   ],
   "source": [
    "users_profiles = requests.get(\"https://api.vk.com/method/users.get?user_ids=\"+str(users)+\"&fields=occupation&version=5.27&access_token=bcabe0c4bcabe0c4bcabe0c4f5bcc38eefbbcabbcabe0c4e0fe7790b7e3f8cf5cefa92b\")\n",
    "users_ids_final = list(map(lambda x: x['uid'], filterByOccupation(users_profiles.json()['response'])))\n",
    "len(users_ids_final)\n"
   ]
  },
  {
   "cell_type": "code",
   "execution_count": 154,
   "metadata": {},
   "outputs": [],
   "source": [
    "users_link = list(map(lambda x: \"https://vk.com/id\" + str(x), users))"
   ]
  },
  {
   "cell_type": "code",
   "execution_count": 140,
   "metadata": {},
   "outputs": [],
   "source": [
    "with open('users.txt', 'w') as f:\n",
    "    for item in users_link:\n",
    "        f.write(\"%s\\n\" % item)"
   ]
  },
  {
   "cell_type": "code",
   "execution_count": null,
   "metadata": {},
   "outputs": [],
   "source": []
  },
  {
   "cell_type": "code",
   "execution_count": 100,
   "metadata": {},
   "outputs": [],
   "source": [
    "mipt_board = requests.get(\"https://api.vk.com/method/board.getComments?group_id=76552532&topic_id=39053436&count=100&extended=1&version=5.27&access_token=bcabe0c4bcabe0c4bcabe0c4f5bcc38eefbbcabbcabe0c4e0fe7790b7e3f8cf5cefa92b\")"
   ]
  },
  {
   "cell_type": "code",
   "execution_count": 104,
   "metadata": {},
   "outputs": [
    {
     "data": {
      "text/plain": [
       "0"
      ]
     },
     "execution_count": 104,
     "metadata": {},
     "output_type": "execute_result"
    }
   ],
   "source": [
    "intersection(users, list(map(lambda x: x['uid'], mipt_board.json()['response']['profiles'])))\n"
   ]
  }
 ],
 "metadata": {
  "kernelspec": {
   "display_name": "Python 3",
   "language": "python",
   "name": "python3"
  },
  "language_info": {
   "codemirror_mode": {
    "name": "ipython",
    "version": 3
   },
   "file_extension": ".py",
   "mimetype": "text/x-python",
   "name": "python",
   "nbconvert_exporter": "python",
   "pygments_lexer": "ipython3",
   "version": "3.7.1"
  }
 },
 "nbformat": 4,
 "nbformat_minor": 2
}
